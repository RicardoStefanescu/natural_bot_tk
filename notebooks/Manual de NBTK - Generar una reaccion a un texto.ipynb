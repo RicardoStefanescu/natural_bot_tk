{
 "cells": [
  {
   "cell_type": "markdown",
   "metadata": {},
   "source": [
    "# Uso de NBTK para generar una reaccion dados unos intereses"
   ]
  },
  {
   "cell_type": "code",
   "execution_count": 5,
   "metadata": {},
   "outputs": [],
   "source": [
    "from natural_bot_tk.reaction import estimate_reaction, Interest"
   ]
  },
  {
   "cell_type": "markdown",
   "metadata": {},
   "source": [
    "## Podemos definir intereses con la clase Interest"
   ]
  },
  {
   "cell_type": "code",
   "execution_count": 6,
   "metadata": {},
   "outputs": [
    {
     "name": "stdout",
     "output_type": "stream",
     "text": [
      "Help on class Interest in module natural_bot_tk.reaction:\n",
      "\n",
      "class Interest(builtins.object)\n",
      " |  Interest(keyword, strenght=0.5, polarity=0.5)\n",
      " |  \n",
      " |  Methods defined here:\n",
      " |  \n",
      " |  __init__(self, keyword, strenght=0.5, polarity=0.5)\n",
      " |      Initialize self.  See help(type(self)) for accurate signature.\n",
      " |  \n",
      " |  get_keywords(self)\n",
      " |  \n",
      " |  get_list(self)\n",
      " |  \n",
      " |  get_polarity(self)\n",
      " |  \n",
      " |  get_strenght(self)\n",
      " |  \n",
      " |  ----------------------------------------------------------------------\n",
      " |  Data descriptors defined here:\n",
      " |  \n",
      " |  __dict__\n",
      " |      dictionary for instance variables (if defined)\n",
      " |  \n",
      " |  __weakref__\n",
      " |      list of weak references to the object (if defined)\n",
      "\n"
     ]
    }
   ],
   "source": [
    "help(Interest)"
   ]
  },
  {
   "cell_type": "code",
   "execution_count": 37,
   "metadata": {},
   "outputs": [],
   "source": [
    "# Ejemplos\n",
    "intereses = [Interest(\"Garfield\", 0.8, 0.1),\n",
    "             Interest(\"Odie\", 0.9, 0.9)]"
   ]
  },
  {
   "cell_type": "markdown",
   "metadata": {},
   "source": [
    "## Podemos estimar la reaccion a un texto dados unos intereses con estimate_reaction"
   ]
  },
  {
   "cell_type": "code",
   "execution_count": 38,
   "metadata": {},
   "outputs": [
    {
     "name": "stdout",
     "output_type": "stream",
     "text": [
      "Help on function estimate_reaction in module natural_bot_tk.reaction:\n",
      "\n",
      "estimate_reaction(text, interest_list, debug=False, bayes=True)\n",
      "\n"
     ]
    }
   ],
   "source": [
    "help(estimate_reaction)"
   ]
  },
  {
   "cell_type": "code",
   "execution_count": 39,
   "metadata": {},
   "outputs": [
    {
     "name": "stdout",
     "output_type": "stream",
     "text": [
      "Reaccion:\n",
      "> Intensidad:\t0.8\n",
      "> Polaridad:\t0.9\n"
     ]
    }
   ],
   "source": [
    "# Ejemplo\n",
    "# Digamos que odiamos a Garfield, y dicen algo malo de garfield\n",
    "texto = \"Garfield the cat is the worst\"\n",
    "\n",
    "reaction_strength, reaction_polarity = estimate_reaction(texto, intereses, bayes=False)\n",
    "\n",
    "print(f\"Reaccion:\\n> Intensidad:\\t{reaction_strength}\\n> Polaridad:\\t{reaction_polarity}\")"
   ]
  },
  {
   "cell_type": "code",
   "execution_count": 40,
   "metadata": {},
   "outputs": [
    {
     "name": "stdout",
     "output_type": "stream",
     "text": [
      "Reaccion:\n",
      "> Intensidad:\t0.798246605030403\n",
      "> Polaridad:\t0.898246605030403\n"
     ]
    }
   ],
   "source": [
    "# Ejemplo\n",
    "# Podemos usar el clasificador de bayes para calcular el sentimiento si el texto es complejo\n",
    "# En este caso un review de la pelicula de garfield\n",
    "texto = '''I have always loved the comic strips, but this movie was just horrible. \n",
    "The characters is all wrong in the movie! \n",
    "Jon is just not that hopeless, pathetic loser he was in the strips, \n",
    "and Odie (this movie tries to explain how he got into the family - which is totally wrong) \n",
    "is just not as brain dead. And why the heck is Liz acting like she LIKES him??? She hates him in the strips!\n",
    "Maybe this is the right time to say that you do not hire Breckin Meyer when you need a funny main character,\n",
    "but when you need someone Freddy Krueger can beat the f*ck up!\n",
    "A good thing about this movie is that via computer animation garfield is even fatter than in strips \n",
    "(he started to be enormous in the first ones, but I think he looks skinny now in the new ones).\n",
    "\n",
    "My point is if you loved the comic strips, you'll hate this.\n",
    "'''\n",
    "\n",
    "reaction_strength, reaction_polarity = estimate_reaction(texto, intereses, bayes=True)\n",
    "\n",
    "print(f\"Reaccion:\\n> Intensidad:\\t{reaction_strength}\\n> Polaridad:\\t{reaction_polarity}\")\n"
   ]
  }
 ],
 "metadata": {
  "kernelspec": {
   "display_name": "Python 3",
   "language": "python",
   "name": "python3"
  },
  "language_info": {
   "codemirror_mode": {
    "name": "ipython",
    "version": 3
   },
   "file_extension": ".py",
   "mimetype": "text/x-python",
   "name": "python",
   "nbconvert_exporter": "python",
   "pygments_lexer": "ipython3",
   "version": "3.8.5"
  }
 },
 "nbformat": 4,
 "nbformat_minor": 4
}
