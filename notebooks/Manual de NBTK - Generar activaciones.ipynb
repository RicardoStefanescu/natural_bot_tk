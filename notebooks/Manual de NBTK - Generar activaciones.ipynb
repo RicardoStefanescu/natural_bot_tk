{
 "cells": [
  {
   "cell_type": "markdown",
   "metadata": {},
   "source": [
    "# Uso de NBTK para generar activaciones"
   ]
  },
  {
   "cell_type": "code",
   "execution_count": 1,
   "metadata": {},
   "outputs": [],
   "source": [
    "from natural_bot_tk.scheduling import generate_scheduling_function"
   ]
  },
  {
   "cell_type": "markdown",
   "metadata": {},
   "source": [
    "## Uso de generate_scheduling_function"
   ]
  },
  {
   "cell_type": "code",
   "execution_count": 2,
   "metadata": {},
   "outputs": [
    {
     "name": "stdout",
     "output_type": "stream",
     "text": [
      "Help on function generate_scheduling_function in module natural_bot_tk.scheduling:\n",
      "\n",
      "generate_scheduling_function(person_seed, max_day_var=0.1, sleep_activation_prob=0.02, high_occupation_prob=0.1, mid_occupation_prob=0.3, low_occupation_prob=0.6)\n",
      "    Retorna una funcion con el prototipo `day_func(day_seed, amount = 1)`\n",
      "    para generar en que minuto/s se debe activar el bot.\n",
      "    `person_seed`: Seed del bot para generar su horario \n",
      "    \n",
      "    `max_day_var`: Maxima variacion por dia \n",
      "    \n",
      "    `sleep_activation_prob`: Probabilidad de que se active durmiendo \n",
      "    \n",
      "    `high_occupation_prob`: Probabilidad de que se active estando muy ocupado \n",
      "    \n",
      "    `mid_occupation_prob`: Probabilidad de que se active estando medianamente ocupado \n",
      "    \n",
      "    `low_occupation_prob`: Probabilidad de que se active estando poco ocupado\n",
      "\n"
     ]
    }
   ],
   "source": [
    "help(generate_scheduling_function)"
   ]
  },
  {
   "cell_type": "code",
   "execution_count": 6,
   "metadata": {},
   "outputs": [
    {
     "name": "stdout",
     "output_type": "stream",
     "text": [
      "Activacion en el minuto 1292\n",
      "Activacion en los minutos [1261, 1175, 1355, 949, 686]\n"
     ]
    }
   ],
   "source": [
    "# Ejemplo\n",
    "person_seed = 123\n",
    "day_func = generate_scheduling_function(person_seed)\n",
    "\n",
    "# Generar una activacion\n",
    "day_seed = 1\n",
    "activacion = day_func(day_seed)\n",
    "print(f\"Activacion en el minuto {activacion}\")\n",
    "\n",
    "# Generar multiples activaciones\n",
    "day_seed = 1\n",
    "activaciones = day_func(day_seed, 5)\n",
    "print(f\"Activacion en los minutos {activaciones}\")"
   ]
  }
 ],
 "metadata": {
  "kernelspec": {
   "display_name": "Python 3",
   "language": "python",
   "name": "python3"
  },
  "language_info": {
   "codemirror_mode": {
    "name": "ipython",
    "version": 3
   },
   "file_extension": ".py",
   "mimetype": "text/x-python",
   "name": "python",
   "nbconvert_exporter": "python",
   "pygments_lexer": "ipython3",
   "version": "3.8.5"
  }
 },
 "nbformat": 4,
 "nbformat_minor": 4
}
