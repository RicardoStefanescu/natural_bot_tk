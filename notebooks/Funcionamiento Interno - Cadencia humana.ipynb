{
 "cells": [
  {
   "cell_type": "markdown",
   "metadata": {},
   "source": [
    "# Pasos seguidos para segmentar texto en tiempos de presionado"
   ]
  },
  {
   "cell_type": "code",
   "execution_count": 3,
   "metadata": {},
   "outputs": [],
   "source": [
    "import string\n",
    "import time\n",
    "import numpy as np"
   ]
  },
  {
   "cell_type": "markdown",
   "metadata": {},
   "source": [
    "## Paso 0: Definir las coordenadas de las teclas"
   ]
  },
  {
   "cell_type": "code",
   "execution_count": 17,
   "metadata": {},
   "outputs": [],
   "source": [
    "us_layout ={\n",
    "    \"ctrl\":[5,1],       \"shift\":[4,1],\n",
    "    \"capslock\":[3,1],   \"tab\":[2,1],\n",
    "    '`':[1,1],          '~':[1,1],\n",
    "    'esc':[0,1],        'space':[5,7],\n",
    "    'backspace':[1,15], 'return':[3,14],\n",
    "    \n",
    "    '1':[1,2],          '!':[1,2],\n",
    "    '2':[1,3],          '@':[1,3],\n",
    "    '3':[1,4],          '#':[1,4],\n",
    "    '4':[1,5],          '$':[1,5],\n",
    "    '5':[1,6],          '%':[1,6],\n",
    "    '6':[1,7],          '^':[1,7],\n",
    "    '7':[1,8],          '&':[1,8],\n",
    "    '8':[1,9],          '*':[1,9],\n",
    "    '9':[1,10],         '(':[1,10],\n",
    "    '0':[1,11],         ')':[1,11],\n",
    "\n",
    "    \n",
    "    'q':[2,2],\n",
    "    'w':[2,3],\n",
    "    'e':[2,4],\n",
    "    'r':[2,5],\n",
    "    't':[2,6],\n",
    "    'y':[2,7],\n",
    "    'u':[2,8],\n",
    "    'i':[2,9],\n",
    "    'o':[2,10],\n",
    "    'p':[2,11],\n",
    "    'a':[3,3],\n",
    "    's':[3,4],\n",
    "    'd':[3,5],\n",
    "    'f':[3,6],\n",
    "    'g':[3,7],\n",
    "    'h':[3,8],\n",
    "    'j':[3,9],\n",
    "    'k':[3,10],\n",
    "    'l':[3,11],\n",
    "    'z':[4,3],\n",
    "    'x':[4,4],\n",
    "    'c':[4,5],\n",
    "    'v':[4,6],\n",
    "    'b':[4,7],\n",
    "    'n':[4,8],\n",
    "    'm':[4,9],\n",
    "\n",
    "    '-':[1,12],\n",
    "    '_':[1,12],\n",
    "    '+':[1,13],\n",
    "    '=':[1,13],\n",
    "    '[':[2,12],\n",
    "    '{':[2,12],\n",
    "    ']':[2,13],\n",
    "    '}':[2,13],\n",
    "    '\\\\':[2,14],\n",
    "    '|':[2,14],\n",
    "    ';':[3,11],\n",
    "    ':':[3,11],\n",
    "    \"'\":[3,12],\n",
    "    '\"':[3,12],\n",
    "    ',':[4,10],\n",
    "    '<':[4,10],\n",
    "    '.':[4,11],\n",
    "    '>':[4,11],\n",
    "    '/':[4,12],\n",
    "    '?':[4,12]\n",
    "}\n",
    "shifted_keys = '~!@#$%^&*()_+{}|:\"<>?' + string.ascii_uppercase"
   ]
  },
  {
   "cell_type": "markdown",
   "metadata": {},
   "source": [
    "## Paso 1: Preparar valores globales"
   ]
  },
  {
   "cell_type": "code",
   "execution_count": 8,
   "metadata": {},
   "outputs": [],
   "source": [
    "key_to_index = {i:k for k,i in enumerate(us_layout.keys())}\n",
    "index_to_key = {k:i for k,i in enumerate(us_layout.keys())}\n",
    "\n",
    "# Usamos el mismo seed para generar resultados consistentes\n",
    "person_seed = 1234\n",
    "np.random.seed(person_seed)\n",
    "\n",
    "# Handicap es un valor que representa la dificultad de la persona de teclear\n",
    "handicap = np.random.uniform()"
   ]
  },
  {
   "cell_type": "markdown",
   "metadata": {},
   "source": [
    "## Paso 2: Calcular tiempos normales de tecleo"
   ]
  },
  {
   "cell_type": "code",
   "execution_count": 27,
   "metadata": {
    "scrolled": true
   },
   "outputs": [
    {
     "data": {
      "text/plain": [
       "array([[ 0.40036392,  1.40036392,  2.40036392, ..., 10.45023954,\n",
       "        11.44572494, 11.44572494],\n",
       "       [ 1.63391479,  0.63391479,  1.63391479, ..., 10.63391479,\n",
       "        11.63391479, 11.63391479],\n",
       "       [ 2.77743806,  1.77743806,  0.77743806, ..., 10.82731368,\n",
       "        11.82279908, 11.82279908],\n",
       "       ...,\n",
       "       [10.04987562, 10.        , 10.04987562, ...,  0.        ,\n",
       "         1.        ,  1.        ],\n",
       "       [11.04536102, 11.        , 11.04536102, ...,  1.        ,\n",
       "         0.        ,  0.        ],\n",
       "       [11.04536102, 11.        , 11.04536102, ...,  1.        ,\n",
       "         0.        ,  0.        ]])"
      ]
     },
     "execution_count": 27,
     "metadata": {},
     "output_type": "execute_result"
    }
   ],
   "source": [
    "# Calcular la matriz de tiempo entre pares de teclas\n",
    "\n",
    "move_delay_matrix = np.empty((len(key_to_index), len(key_to_index)))\n",
    "for k_i, i in key_to_index.items():\n",
    "    for k_j, j in key_to_index.items():\n",
    "        # We calculate the distance between the two keys\n",
    "        pos_i = np.array(us_layout[k_i])\n",
    "        pos_j = np.array(us_layout[k_j])\n",
    "        distance = np.linalg.norm(pos_i - pos_j)\n",
    "\n",
    "        move_delay_matrix[i][j] = distance\n",
    "\n",
    "# Now we sum to the places where the destination is a letter, a scalar proportional to the handicap\n",
    "for k, i in key_to_index.items():\n",
    "    if k not in string.ascii_letters:\n",
    "        continue\n",
    "\n",
    "    move_delay_matrix[:][i] += np.random.uniform(low=handicap, high=handicap+0.3)\n",
    "\n",
    "# Now we sum to the places where the destination is a number, a scalar proportional to the handicap\n",
    "for k, i in key_to_index.items():\n",
    "    if k not in string.digits:\n",
    "        continue\n",
    "\n",
    "    move_delay_matrix[:][i] += np.random.uniform(low=handicap+0.1, high=handicap+0.4)\n",
    "\n",
    "# Now we sum to the places where the destination is a symbol, a scalar proportional to the handicap\n",
    "for k, i in key_to_index.items():\n",
    "    if k not in string.punctuation.split() + [\"return\", \"backspace\", \"ctrl\", \"shift\", \"capslock\", \"tab\", \"esc\", \"space\"]:\n",
    "        continue\n",
    "\n",
    "    move_delay_matrix[:][i] += np.random.uniform(low=handicap+0.2, high=handicap+0.6) \n",
    "\n",
    "move_delay_matrix"
   ]
  },
  {
   "cell_type": "code",
   "execution_count": 28,
   "metadata": {
    "scrolled": true
   },
   "outputs": [
    {
     "data": {
      "text/plain": [
       "{'ctrl': 0.06611720283589612,\n",
       " 'shift': 0.04110796015922441,\n",
       " 'capslock': 0.1048108355575187,\n",
       " 'tab': 0.0898477658685607,\n",
       " '`': 0.045004896255320816,\n",
       " '~': 0.10625238175071935,\n",
       " 'esc': 0.09824676235720069,\n",
       " 'space': 0.06261187665493052,\n",
       " 'backspace': 0.10099309279491016,\n",
       " 'return': 0.07718655715849673,\n",
       " '1': 0.03992746187831222,\n",
       " '!': 0.07151502962108537,\n",
       " '2': 0.07249494254505624,\n",
       " '@': 0.05659935932008467,\n",
       " '3': 0.10190717257242804,\n",
       " '#': 0.09535862038250655,\n",
       " '4': 0.08323274444483955,\n",
       " '$': 0.07606140216888486,\n",
       " '5': 0.07563914217422116,\n",
       " '%': 0.05873830266651483,\n",
       " '6': 0.08465244752412358,\n",
       " '^': 0.0960312017879885,\n",
       " '7': 0.05903274712329854,\n",
       " '&': 0.07831638516242756,\n",
       " '8': 0.04583662050100467,\n",
       " '*': 0.09297401157992836,\n",
       " '9': 0.1060282775472066,\n",
       " '(': 0.08174467051118169,\n",
       " '0': 0.11448891623671081,\n",
       " ')': 0.05199674710039231,\n",
       " 'q': 0.03923851160445203,\n",
       " 'w': 0.07331352920389086,\n",
       " 'e': 0.10968333799318876,\n",
       " 'r': 0.10311596339356287,\n",
       " 't': 0.07456464116093262,\n",
       " 'y': 0.10744662708592607,\n",
       " 'u': 0.05561690567266669,\n",
       " 'i': 0.06160443281905632,\n",
       " 'o': 0.09307798416047477,\n",
       " 'p': 0.09377493124860206,\n",
       " 'a': 0.03973465064116172,\n",
       " 's': 0.06019939746232982,\n",
       " 'd': 0.08277365962724018,\n",
       " 'f': 0.10960938775495026,\n",
       " 'g': 0.06427369019164411,\n",
       " 'h': 0.04750319156781179,\n",
       " 'j': 0.0778543962287681,\n",
       " 'k': 0.09186859106234888,\n",
       " 'l': 0.061182089409565155,\n",
       " 'z': 0.10430989005955325,\n",
       " 'x': 0.10769576856013409,\n",
       " 'c': 0.09718334686150225,\n",
       " 'v': 0.05831626617802778,\n",
       " 'b': 0.1101968900712096,\n",
       " 'n': 0.11021120494866245,\n",
       " 'm': 0.09538009894373503,\n",
       " '-': 0.10807328001454397,\n",
       " '_': 0.056477148413627325,\n",
       " '+': 0.07622224016921585,\n",
       " '=': 0.10034687180483806,\n",
       " '[': 0.11143105578328073,\n",
       " '{': 0.08714006708864971,\n",
       " ']': 0.10808206768368522,\n",
       " '}': 0.09132695014619668,\n",
       " '\\\\': 0.04159365716288381,\n",
       " '|': 0.10216313210090176,\n",
       " ';': 0.06664482465509124,\n",
       " ':': 0.11005144290022917,\n",
       " \"'\": 0.075309498538879,\n",
       " '\"': 0.04790526628377817,\n",
       " ',': 0.11218858415149693,\n",
       " '<': 0.03960820119208622,\n",
       " '.': 0.090134474503735,\n",
       " '>': 0.04906268413174996,\n",
       " '/': 0.0502020629948104,\n",
       " '?': 0.08806506715789926}"
      ]
     },
     "execution_count": 28,
     "metadata": {},
     "output_type": "execute_result"
    }
   ],
   "source": [
    "# Generar los tiempos que mantenemos presionados cada tecla\n",
    "hold_delay_dict = {k: handicap * np.random.uniform(low=0.2,high=0.6) for k in us_layout.keys()}\n",
    "\n",
    "hold_delay_dict"
   ]
  },
  {
   "cell_type": "markdown",
   "metadata": {},
   "source": [
    "## Paso 3: Creamos unas funciones auxiliares"
   ]
  },
  {
   "cell_type": "code",
   "execution_count": 29,
   "metadata": {},
   "outputs": [],
   "source": [
    "def char_to_key(char):\n",
    "    if char == ' ':\n",
    "        intended_key = 'space'\n",
    "    elif char == '\\n':\n",
    "        intended_key = 'return'\n",
    "    elif char == '\\t':\n",
    "        intended_key = 'tab'\n",
    "    else:\n",
    "        intended_key = char.lower()\n",
    "\n",
    "    return intended_key"
   ]
  },
  {
   "cell_type": "code",
   "execution_count": 30,
   "metadata": {},
   "outputs": [],
   "source": [
    "def generate_typo(intended_key):\n",
    "        intended_key = char_to_key(intended_key)\n",
    "\n",
    "        # We generate a random displacement\n",
    "        x_offset = np.random.randint(-1,2)\n",
    "        y_offset = np.random.randint(-1,2)\n",
    "\n",
    "        typo_coordinates = np.array(us_layout[intended_key]) - np.array((x_offset, y_offset))\n",
    "\n",
    "        # Find posibilities\n",
    "        typo_key = intended_key\n",
    "        for k, v in us_layout.items():\n",
    "            if np.all(np.array(v) == typo_coordinates) and k not in shifted_keys:\n",
    "                typo_key = k\n",
    "\n",
    "        return typo_key"
   ]
  },
  {
   "cell_type": "markdown",
   "metadata": {},
   "source": [
    "## Paso 4: Dado un texto, generamos las teclas a teclear"
   ]
  },
  {
   "cell_type": "code",
   "execution_count": 31,
   "metadata": {},
   "outputs": [],
   "source": [
    "text = \"TEST test 123$%^ \\t123\\n\"\n",
    "stress = 0.5"
   ]
  },
  {
   "cell_type": "code",
   "execution_count": 35,
   "metadata": {},
   "outputs": [],
   "source": [
    "keys = []\n",
    "typo_posibility = stress * 0.2\n",
    "for i, c in enumerate(text):\n",
    "    last_key = char_to_key(text[i - 1])\n",
    "    this_key = char_to_key(c)\n",
    "\n",
    "    if i != 0 and np.random.uniform() <= typo_posibility and this_key not in ['tab', 'return']:\n",
    "        # Add typo and keys\n",
    "        max_time = int(5 * stress)\n",
    "        time_to_notice = 0 if max_time <= 1 else np.random.randint(1, max_time)\n",
    "        time_to_notice = time_to_notice if time_to_notice < len(text) - i else len(text) - i\n",
    "        key = generate_typo(c)\n",
    "\n",
    "        origin_i = key_to_index[last_key]\n",
    "        dest_i = key_to_index[key]\n",
    "\n",
    "        movement_delay = move_delay_matrix[origin_i][dest_i] * 0.1 * handicap\n",
    "\n",
    "        hold_delay = hold_delay_dict[key]\n",
    "        needs_shift = key in shifted_keys\n",
    "\n",
    "        # A key action has: key, wheter it needs shift, movement shift and hold delay    \n",
    "        keys.append( [key, needs_shift, movement_delay, hold_delay] )\n",
    "\n",
    "        _c = char_to_key(text[i])\n",
    "        for j in range(time_to_notice):\n",
    "            _last_c = char_to_key(text[i + j - 1])\n",
    "            _c = char_to_key(text[i + j])\n",
    "            origin_i = key_to_index[_last_c]\n",
    "            dest_i = key_to_index[_c]\n",
    "\n",
    "            movement_delay = move_delay_matrix[origin_i][dest_i] * 0.1 * handicap\n",
    "\n",
    "            hold_delay = hold_delay_dict[_c]\n",
    "            needs_shift = _c in shifted_keys\n",
    "\n",
    "            # A key action has: key, wheter it needs shift, movement shift and hold delay    \n",
    "            keys.append( [_c, needs_shift, movement_delay, hold_delay] )\n",
    "\n",
    "        # Backspace with delay\n",
    "        origin_i = key_to_index[_c]\n",
    "        dest_i = key_to_index['backspace']\n",
    "\n",
    "        movement_delay = move_delay_matrix[origin_i][dest_i] * 0.1 * handicap\n",
    "        hold_delay = hold_delay_dict['backspace']\n",
    "        keys.append( ['backspace', False, movement_delay, hold_delay] )\n",
    "        # Rest of backspaces\n",
    "        for _ in range(time_to_notice):\n",
    "            keys.append( ['backspace', False, 0.05 + np.random.uniform(-0.005, 0.005), hold_delay] )\n",
    "\n",
    "    if i == 0:\n",
    "        movement_delay = 0\n",
    "    else:\n",
    "        origin_i = key_to_index[last_key]\n",
    "        dest_i = key_to_index[this_key]\n",
    "\n",
    "        movement_delay = move_delay_matrix[origin_i][dest_i] * 0.1 * handicap\n",
    "\n",
    "    hold_delay = hold_delay_dict[this_key]\n",
    "    needs_shift = c in shifted_keys\n",
    "\n",
    "    # A key action has: key, wheter it needs shift, movement shift and hold delay    \n",
    "    keys.append( [this_key, needs_shift, movement_delay, hold_delay] )"
   ]
  },
  {
   "cell_type": "code",
   "execution_count": 36,
   "metadata": {
    "scrolled": true
   },
   "outputs": [
    {
     "data": {
      "text/plain": [
       "[['t', True, 0, 0.07456464116093262],\n",
       " ['e', True, 0.045958413993970194, 0.10968333799318876],\n",
       " ['s', True, 0.027718612398593453, 0.06019939746232982],\n",
       " ['t', True, 0.04683197928442698, 0.07456464116093262],\n",
       " ['space', False, 0.06821829186028149, 0.06261187665493052],\n",
       " ['t', False, 0.06947691813380875, 0.07456464116093262],\n",
       " ['e', False, 0.045958413993970194, 0.10968333799318876],\n",
       " ['s', False, 0.027718612398593453, 0.06019939746232982],\n",
       " ['t', False, 0.04683197928442698, 0.07456464116093262],\n",
       " ['space', False, 0.06821829186028149, 0.06261187665493052],\n",
       " ['1', False, 0.1315454336578093, 0.03992746187831222],\n",
       " ['e', False, 0.0539390206496524, 0.10968333799318876],\n",
       " ['2', False, 0.030265914681481515, 0.07249494254505624],\n",
       " ['backspace', False, 0.23839211378610067, 0.10099309279491016],\n",
       " ['backspace', False, 0.04617057869294775, 0.10099309279491016],\n",
       " ['2', False, 0.030265914681481515, 0.07249494254505624],\n",
       " ['3', False, 0.027720718369319143, 0.10190717257242804],\n",
       " ['$', True, 0.025928990138241747, 0.07606140216888486],\n",
       " ['4', False, 0.0, 0.08323274444483955],\n",
       " ['%', True, 0.01915194503788923, 0.05873830266651483],\n",
       " ['backspace', False, 0.17236750534100306, 0.10099309279491016],\n",
       " ['backspace', False, 0.04552982830772284, 0.10099309279491016],\n",
       " ['%', True, 0.01915194503788923, 0.05873830266651483],\n",
       " ['^', True, 0.01915194503788923, 0.0960312017879885],\n",
       " ['^', True, 0.01915194503788923, 0.0960312017879885],\n",
       " ['backspace', False, 0.15321556030311384, 0.10099309279491016],\n",
       " ['backspace', False, 0.04742430856380035, 0.10099309279491016],\n",
       " ['^', True, 0.01915194503788923, 0.0960312017879885],\n",
       " ['space', False, 0.07660778015155692, 0.06261187665493052],\n",
       " ['tab', False, 0.1373883032098993, 0.0898477658685607],\n",
       " ['q', False, 0.034062807577853814, 0.03923851160445203],\n",
       " ['1', False, 0.04199580295837163, 0.03992746187831222],\n",
       " ['backspace', False, 0.2600892551361523, 0.10099309279491016],\n",
       " ['backspace', False, 0.05435262908603798, 0.10099309279491016],\n",
       " ['1', False, 0.04199580295837163, 0.03992746187831222],\n",
       " ['2', False, 0.030265914681481515, 0.07249494254505624],\n",
       " ['3', False, 0.027720718369319143, 0.10190717257242804],\n",
       " ['return', False, 0.20208932804325988, 0.07718655715849673]]"
      ]
     },
     "execution_count": 36,
     "metadata": {},
     "output_type": "execute_result"
    }
   ],
   "source": [
    "keys"
   ]
  }
 ],
 "metadata": {
  "kernelspec": {
   "display_name": "Python 3",
   "language": "python",
   "name": "python3"
  },
  "language_info": {
   "codemirror_mode": {
    "name": "ipython",
    "version": 3
   },
   "file_extension": ".py",
   "mimetype": "text/x-python",
   "name": "python",
   "nbconvert_exporter": "python",
   "pygments_lexer": "ipython3",
   "version": "3.8.5"
  }
 },
 "nbformat": 4,
 "nbformat_minor": 4
}
