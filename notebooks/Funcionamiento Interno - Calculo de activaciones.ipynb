{
 "cells": [
  {
   "cell_type": "markdown",
   "metadata": {},
   "source": [
    "# Como se calculan las activaciones"
   ]
  },
  {
   "cell_type": "code",
   "execution_count": 39,
   "metadata": {},
   "outputs": [],
   "source": [
    "import numpy as np\n",
    "from copy import copy\n",
    "import matplotlib.pyplot as plt"
   ]
  },
  {
   "cell_type": "markdown",
   "metadata": {},
   "source": [
    "## Paso 0: Preparar valores, y funciones basicas"
   ]
  },
  {
   "cell_type": "code",
   "execution_count": 40,
   "metadata": {},
   "outputs": [],
   "source": [
    "person_seed = 123\n",
    "day_seed = 123"
   ]
  },
  {
   "cell_type": "code",
   "execution_count": 41,
   "metadata": {},
   "outputs": [],
   "source": [
    "def hour2min(hours):\n",
    "    return int(hours * 60)\n",
    "\n",
    "def min2hour(sec):\n",
    "    return sec/(60)"
   ]
  },
  {
   "cell_type": "code",
   "execution_count": 42,
   "metadata": {},
   "outputs": [],
   "source": [
    "normal_sleep = hour2min(8)\n",
    "normal_high_occupation_time = hour2min(7)\n",
    "normal_mid_occupation_time = hour2min(3)\n",
    "max_var = 0.1"
   ]
  },
  {
   "cell_type": "code",
   "execution_count": 43,
   "metadata": {},
   "outputs": [],
   "source": [
    "sleep_activation_prob = 0.02\n",
    "high_occupation_prob = 0.1\n",
    "mid_occupation_prob = 0.3\n",
    "low_occupation_prob = 0.6"
   ]
  },
  {
   "cell_type": "markdown",
   "metadata": {},
   "source": [
    "## Paso 1: Definir lo que es una ocupacion"
   ]
  },
  {
   "cell_type": "code",
   "execution_count": 44,
   "metadata": {},
   "outputs": [],
   "source": [
    "class Occupation:\n",
    "    def __init__(self, priority, time, probability, start_time = None):\n",
    "        self.priority = priority\n",
    "        self.time = int(time)\n",
    "        self.probability = probability\n",
    "        self.start_time = int(start_time) if start_time is not None else None"
   ]
  },
  {
   "cell_type": "markdown",
   "metadata": {},
   "source": [
    "## Paso 2: Generar tiempos normales para un bot"
   ]
  },
  {
   "cell_type": "code",
   "execution_count": 45,
   "metadata": {
    "scrolled": true
   },
   "outputs": [
    {
     "name": "stdout",
     "output_type": "stream",
     "text": [
      "Normal times:\n",
      "    Sleep: 9.300974334013972\n",
      "    Work: 6.3102808896195794\n",
      "    Chores: 2.7018040106025705\n",
      "    Free breaks: 2.5774771336644693\n",
      "    Remaining: 3.1094636320994082\n"
     ]
    }
   ],
   "source": [
    "np.random.seed(person_seed)\n",
    "\n",
    "\n",
    "remaining_time = hour2min(24)\n",
    "\n",
    "sleep_time = np.random.triangular(hour2min(6), hour2min(8), hour2min(12))\n",
    "remaining_time -= sleep_time\n",
    "\n",
    "work_time = np.random.triangular(hour2min(5), hour2min(7), hour2min(8))\n",
    "remaining_time -= work_time\n",
    "\n",
    "total_chores_time = np.random.triangular(hour2min(1), hour2min(3), hour2min(min2hour(remaining_time) - 1))\n",
    "remaining_time -= total_chores_time\n",
    "\n",
    "total_free_breaks_time = np.random.triangular(hour2min(1), hour2min(2), hour2min(min2hour(remaining_time) - 1))\n",
    "remaining_time -= total_free_breaks_time\n",
    "\n",
    "np.random.seed()\n",
    "\n",
    "print(f'''Normal times:\n",
    "    Sleep: {min2hour(sleep_time)}\n",
    "    Work: {min2hour(work_time)}\n",
    "    Chores: {min2hour(total_chores_time)}\n",
    "    Free breaks: {min2hour(total_free_breaks_time)}\n",
    "    Remaining: {min2hour(remaining_time)}''')"
   ]
  },
  {
   "cell_type": "markdown",
   "metadata": {},
   "source": [
    "## Paso 3: Generar variaciones del dia"
   ]
  },
  {
   "cell_type": "code",
   "execution_count": 46,
   "metadata": {
    "scrolled": true
   },
   "outputs": [
    {
     "name": "stdout",
     "output_type": "stream",
     "text": [
      "Variations:\n",
      "    Sleep: 8.903151822677637\n",
      "    Work: 7.563134480731916\n",
      "    Chores: 4.126932937592344\n",
      "    Free breaks: 1.58821815255873\n",
      "    Remaining: 3.4067807589981025\n"
     ]
    }
   ],
   "source": [
    "np.random.seed(day_seed)\n",
    "\n",
    "\n",
    "remaining_time = hour2min(24)\n",
    "\n",
    "# Sleep\n",
    "sleep_time = np.random.triangular(hour2min(6), hour2min(8), hour2min(12))\n",
    "sleep_var = sleep_time * max_var * ((np.random.rand()-0.5)/0.5)\n",
    "\n",
    "remaining_time -= sleep_time + sleep_var\n",
    "\n",
    "# Work\n",
    "work_time = np.random.triangular(hour2min(5), hour2min(8), hour2min(min2hour(remaining_time) - 1))\n",
    "work_var = work_time * max_var * ((np.random.rand()-0.5)/0.5)\n",
    "\n",
    "remaining_time -= work_time + work_var\n",
    "\n",
    "# Chores\n",
    "total_chores_time = np.random.triangular(hour2min(1), hour2min(3), hour2min(min2hour(remaining_time) - 1))\n",
    "chores_var = total_chores_time * max_var * ((np.random.rand()-0.5)/0.5)\n",
    "chores = np.random.rand(np.random.randint(3,high=7))\n",
    "chores /= np.sum(chores)\n",
    "chores *= total_chores_time\n",
    "\n",
    "remaining_time -= total_chores_time + chores_var\n",
    "\n",
    "# Random Breaks\n",
    "total_free_breaks_time = np.random.triangular(hour2min(1), hour2min(2), hour2min(min2hour(remaining_time) - 1))\n",
    "breaks_var = total_free_breaks_time * max_var * ((np.random.rand()-0.5)/0.5)\n",
    "free_breaks = np.random.rand(np.random.randint(8,high=15))\n",
    "free_breaks /= np.sum(free_breaks)\n",
    "free_breaks *= total_free_breaks_time\n",
    "\n",
    "np.random.seed()\n",
    "\n",
    "\n",
    "print(f'''Variations:\n",
    "    Sleep: {min2hour(sleep_time + sleep_var)}\n",
    "    Work: {min2hour(work_time + work_var)}\n",
    "    Chores: {min2hour(total_chores_time + chores_var)}\n",
    "    Free breaks: {min2hour(total_free_breaks_time + breaks_var)}\n",
    "    Remaining: {min2hour(remaining_time)}''')"
   ]
  },
  {
   "cell_type": "markdown",
   "metadata": {},
   "source": [
    "## Paso 4: Generar ocupaciones con estos tiempos"
   ]
  },
  {
   "cell_type": "code",
   "execution_count": 47,
   "metadata": {
    "scrolled": true
   },
   "outputs": [
    {
     "name": "stdout",
     "output_type": "stream",
     "text": [
      "Occupation 0:\n",
      "\tPriority: 0\n",
      "\tStart Time: 821\n",
      "\tTime: 6\n",
      "\tProbability: 0.6\n",
      "Occupation 1:\n",
      "\tPriority: 0\n",
      "\tStart Time: 906\n",
      "\tTime: 11\n",
      "\tProbability: 0.6\n",
      "Occupation 2:\n",
      "\tPriority: 0\n",
      "\tStart Time: 894\n",
      "\tTime: 2\n",
      "\tProbability: 0.6\n",
      "Occupation 3:\n",
      "\tPriority: 0\n",
      "\tStart Time: 1027\n",
      "\tTime: 2\n",
      "\tProbability: 0.6\n",
      "Occupation 4:\n",
      "\tPriority: 0\n",
      "\tStart Time: 1365\n",
      "\tTime: 8\n",
      "\tProbability: 0.6\n",
      "Occupation 5:\n",
      "\tPriority: 0\n",
      "\tStart Time: 1245\n",
      "\tTime: 8\n",
      "\tProbability: 0.6\n",
      "Occupation 6:\n",
      "\tPriority: 0\n",
      "\tStart Time: 1039\n",
      "\tTime: 9\n",
      "\tProbability: 0.6\n",
      "Occupation 7:\n",
      "\tPriority: 0\n",
      "\tStart Time: 626\n",
      "\tTime: 13\n",
      "\tProbability: 0.6\n",
      "Occupation 8:\n",
      "\tPriority: 0\n",
      "\tStart Time: 727\n",
      "\tTime: 11\n",
      "\tProbability: 0.6\n",
      "Occupation 9:\n",
      "\tPriority: 0\n",
      "\tStart Time: 810\n",
      "\tTime: 9\n",
      "\tProbability: 0.6\n",
      "Occupation 10:\n",
      "\tPriority: 0\n",
      "\tStart Time: 653\n",
      "\tTime: 11\n",
      "\tProbability: 0.6\n",
      "Occupation 11:\n",
      "\tPriority: 0\n",
      "\tStart Time: 796\n",
      "\tTime: 5\n",
      "\tProbability: 0.6\n",
      "Occupation 12:\n",
      "\tPriority: 1\n",
      "\tStart Time: 0\n",
      "\tTime: 534\n",
      "\tProbability: 0.02\n",
      "Occupation 13:\n",
      "\tPriority: 2\n",
      "\tStart Time: 1037\n",
      "\tTime: 47\n",
      "\tProbability: 0.3\n",
      "Occupation 14:\n",
      "\tPriority: 2\n",
      "\tStart Time: 1183\n",
      "\tTime: 67\n",
      "\tProbability: 0.3\n",
      "Occupation 15:\n",
      "\tPriority: 2\n",
      "\tStart Time: 829\n",
      "\tTime: 16\n",
      "\tProbability: 0.3\n",
      "Occupation 16:\n",
      "\tPriority: 2\n",
      "\tStart Time: 1029\n",
      "\tTime: 46\n",
      "\tProbability: 0.3\n",
      "Occupation 17:\n",
      "\tPriority: 2\n",
      "\tStart Time: 682\n",
      "\tTime: 73\n",
      "\tProbability: 0.3\n",
      "Occupation 18:\n",
      "\tPriority: 3\n",
      "\tStart Time: None\n",
      "\tTime: 453\n",
      "\tProbability: 0.1\n"
     ]
    }
   ],
   "source": [
    "day_occupations = []\n",
    "\n",
    "# Add Sleep\n",
    "day_occupations += [Occupation(1, sleep_time + sleep_var, sleep_activation_prob, 0)]\n",
    "\n",
    "# Add Work\n",
    "day_occupations += [Occupation(3, work_time + work_var, high_occupation_prob)]\n",
    "\n",
    "# Add chores\n",
    "for c in chores:\n",
    "    # set random start time\n",
    "    start_time = np.random.triangular(sleep_time + sleep_var, hour2min(19), hour2min(24) - c)\n",
    "    day_occupations += [Occupation(2, c, mid_occupation_prob, start_time=start_time)]\n",
    "    \n",
    "# Add random breaks\n",
    "for f in free_breaks:\n",
    "    # set random start time\n",
    "    start_time = np.random.triangular(sleep_time + sleep_var, hour2min(14), hour2min(24) - f)\n",
    "    day_occupations += [Occupation(0, f, low_occupation_prob, start_time=start_time)]\n",
    "    \n",
    "day_occupations.sort(key=lambda x: x.priority)\n",
    "\n",
    "for i, o in enumerate(day_occupations):\n",
    "    print(f\"Occupation {i}:\")\n",
    "    print(f\"\\tPriority: {o.priority}\")\n",
    "    print(f\"\\tStart Time: {o.start_time}\")\n",
    "    print(f\"\\tTime: {o.time}\")\n",
    "    print(f\"\\tProbability: {o.probability}\")"
   ]
  },
  {
   "cell_type": "markdown",
   "metadata": {},
   "source": [
    "## Calcular probabilidad para cada minuto del dia"
   ]
  },
  {
   "cell_type": "code",
   "execution_count": 48,
   "metadata": {},
   "outputs": [
    {
     "data": {
      "image/png": "[encoded data removed]",
      "text/plain": [
       "<Figure size 6400x480 with 1 Axes>"
      ]
     },
     "metadata": {},
     "output_type": "display_data"
    }
   ],
   "source": [
    "occupations = [copy(o) for o in day_occupations]\n",
    "# Simulate day passing\n",
    "current_occupation = None\n",
    "day = []\n",
    "\n",
    "current_priority = current_occupation.priority if current_occupation is not None else 9999\n",
    "current_prob = current_occupation.probability if current_occupation is not None else low_occupation_prob\n",
    "\n",
    "for sec in range(hour2min(24)):\n",
    "    for i, o in enumerate(occupations):\n",
    "        # Delete already consumed occupations\n",
    "        if o.time <= 0:\n",
    "            occupations.pop(i)\n",
    "\n",
    "        # Take on occupations with a bigger priority\n",
    "        if o.start_time is None:\n",
    "            if o.priority < current_priority:\n",
    "                current_occupation = o\n",
    "\n",
    "        # Take on occupations with a bigger priority that start in  that time\n",
    "        else:\n",
    "            if o.start_time == sec and o.priority < current_priority:\n",
    "                current_occupation = o\n",
    "                break\n",
    "\n",
    "    if current_occupation is not None:\n",
    "        current_occupation.time -= 1\n",
    "        if current_occupation.time <= 0:\n",
    "            current_occupation = None\n",
    "    \n",
    "    current_priority = current_occupation.priority if current_occupation is not None else 9999\n",
    "    current_prob = current_occupation.probability if current_occupation is not None else low_occupation_prob\n",
    "\n",
    "    day.append(current_prob)\n",
    "            \n",
    "# plot\n",
    "day.append(day[0])\n",
    "f = plt.figure(num=None, figsize=(80, 6), dpi=80, facecolor='w', edgecolor='k')\n",
    "plt.plot(day, color='b')\n",
    "plt.fill(day, color=\"b\")\n",
    "plt.plot([0 for _ in range(hour2min(24))], color='black')\n",
    "plt.ylabel('Probability')\n",
    "plt.ylabel('Second of the day')\n",
    "plt.show()"
   ]
  }
 ],
 "metadata": {
  "kernelspec": {
   "display_name": "Python 3",
   "language": "python",
   "name": "python3"
  },
  "language_info": {
   "codemirror_mode": {
    "name": "ipython",
    "version": 3
   },
   "file_extension": ".py",
   "mimetype": "text/x-python",
   "name": "python",
   "nbconvert_exporter": "python",
   "pygments_lexer": "ipython3",
   "version": "3.8.5"
  }
 },
 "nbformat": 4,
 "nbformat_minor": 4
}
