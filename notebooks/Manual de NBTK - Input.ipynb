{
 "cells": [
  {
   "cell_type": "markdown",
   "metadata": {},
   "source": [
    "# Uso de NBTK para generar input humanoide"
   ]
  },
  {
   "cell_type": "markdown",
   "metadata": {},
   "source": [
    "## Preparar espacio de trabajo"
   ]
  },
  {
   "cell_type": "code",
   "execution_count": 6,
   "metadata": {},
   "outputs": [],
   "source": [
    "from natural_bot_tk.natural_input import Mouse, Keyboard\n",
    "import pyautogui\n",
    "\n",
    "import matplotlib\n",
    "import numpy as np\n",
    "import matplotlib.pyplot as plt\n",
    "%matplotlib inline\n",
    "\n",
    "mouse = Mouse(pyautogui.size())\n",
    "keyboard = Keyboard(123)"
   ]
  },
  {
   "cell_type": "markdown",
   "metadata": {},
   "source": [
    "## Movimiento del mouse\n",
    "Para mover el mouse entre dos puntos usaremos la funcion move_to"
   ]
  },
  {
   "cell_type": "code",
   "execution_count": 7,
   "metadata": {},
   "outputs": [
    {
     "name": "stdout",
     "output_type": "stream",
     "text": [
      "Help on method move_to in module natural_bot_tk.natural_input:\n",
      "\n",
      "move_to(p_destination, max_deviation=0.05, n_steps=None, linear_progression=False, noisiness=0.4, max_noise_deviation=0.9) method of natural_bot_tk.natural_input.Mouse instance\n",
      "    Mueve el raton a un pixel dadas sus coordenadas.\n",
      "    \n",
      "    `max_deviation`: La desviacion maxima de los puntos de control\n",
      "    \n",
      "    `n_steps`: El numero de puntos de la curva que calcular\n",
      "    \n",
      "    `linear_progression`: \n",
      "    \n",
      "      - True: usamos una distribucion lineal para los puntos\n",
      "    \n",
      "      - False: Usamos una distribucion triangular para los puntos\n",
      "    \n",
      "    `noisiness` - Valor [0-1) que determina a que porcentaje de puntos anadir ruido \n",
      "    \n",
      "    `max_noise_deviation` - Desviacion maxima\n",
      "\n"
     ]
    }
   ],
   "source": [
    "help(mouse.move_to)"
   ]
  },
  {
   "cell_type": "code",
   "execution_count": 38,
   "metadata": {
    "scrolled": false
   },
   "outputs": [],
   "source": [
    "### Uso normal\n",
    "mouse.move_to((300,300))\n",
    "\n",
    "### Uso avanzado\n",
    "mouse.move_to((900,900),\n",
    "              max_deviation=0.5, \n",
    "              n_steps=None, \n",
    "              linear_progression=False, \n",
    "              noisiness=0.5, \n",
    "              max_noise_deviation=0.3)\n",
    "\n",
    "### Clicks\n",
    "mouse.left_click()\n",
    "mouse.right_click()"
   ]
  },
  {
   "cell_type": "markdown",
   "metadata": {},
   "source": [
    "Tambien podemos mover el mouse entre distintos puntos, haciendo click en cada uno.\n",
    "Por ejemplo para resolver captchas"
   ]
  },
  {
   "cell_type": "code",
   "execution_count": 34,
   "metadata": {
    "scrolled": true
   },
   "outputs": [
    {
     "name": "stdout",
     "output_type": "stream",
     "text": [
      "Help on method chain_clicks in module natural_bot_tk.natural_input:\n",
      "\n",
      "chain_clicks(destinations, randomize=False) method of natural_bot_tk.natural_input.Mouse instance\n",
      "\n"
     ]
    }
   ],
   "source": [
    "help(mouse.chain_clicks)"
   ]
  },
  {
   "cell_type": "code",
   "execution_count": 36,
   "metadata": {},
   "outputs": [],
   "source": [
    "### Uso normal\n",
    "points = [[300,300],\n",
    "         [900,300],\n",
    "         [300,900],\n",
    "         [900,900]]\n",
    "mouse.chain_clicks(points)\n",
    "\n",
    "### Podemos randomizar el orden de los puntos\n",
    "mouse.chain_clicks(points, randomize=True)"
   ]
  },
  {
   "cell_type": "markdown",
   "metadata": {},
   "source": [
    "## Tecleo con cadencia humana\n",
    "Para teclear un texto usamos la funcion type_text"
   ]
  },
  {
   "cell_type": "code",
   "execution_count": 39,
   "metadata": {},
   "outputs": [
    {
     "name": "stdout",
     "output_type": "stream",
     "text": [
      "Help on method type_text in module natural_bot_tk.natural_input:\n",
      "\n",
      "type_text(text, stress=0.3) method of natural_bot_tk.natural_input.Keyboard instance\n",
      "    Genera las teclas para el texto y las teclea\n",
      "\n"
     ]
    }
   ],
   "source": [
    "help(keyboard.type_text)"
   ]
  },
  {
   "cell_type": "code",
   "execution_count": 41,
   "metadata": {},
   "outputs": [],
   "source": [
    "texto = \"Testing 123$%^ \\t 123\"\n",
    "\n",
    "### Uso normal\n",
    "keyboard.type_text(texto)\n",
    "\n",
    "### Podemos cambiar la cantidad de errores\n",
    "keyboard.type_text(texto, stress=0.9)"
   ]
  }
 ],
 "metadata": {
  "kernelspec": {
   "display_name": "Python 3",
   "language": "python",
   "name": "python3"
  },
  "language_info": {
   "codemirror_mode": {
    "name": "ipython",
    "version": 3
   },
   "file_extension": ".py",
   "mimetype": "text/x-python",
   "name": "python",
   "nbconvert_exporter": "python",
   "pygments_lexer": "ipython3",
   "version": "3.8.5"
  }
 },
 "nbformat": 4,
 "nbformat_minor": 4
}
